{
  "nbformat": 4,
  "nbformat_minor": 0,
  "metadata": {
    "colab": {
      "name": "Question 5.ipynb",
      "provenance": [],
      "collapsed_sections": []
    },
    "kernelspec": {
      "display_name": "Python 3",
      "language": "python",
      "name": "python3"
    },
    "language_info": {
      "codemirror_mode": {
        "name": "ipython",
        "version": 3
      },
      "file_extension": ".py",
      "mimetype": "text/x-python",
      "name": "python",
      "nbconvert_exporter": "python",
      "pygments_lexer": "ipython3",
      "version": "3.7.0"
    }
  },
  "cells": [
    {
      "cell_type": "code",
      "metadata": {
        "colab_type": "code",
        "id": "V7CqdE1VhI8_",
        "colab": {}
      },
      "source": [
        "!apt-get install openjdk-8-jdk-headless -qq > /dev/null\n",
        "!wget -q https://archive.apache.org/dist/spark/spark-2.4.4/spark-2.4.4-bin-hadoop2.7.tgz\n",
        "!tar xf spark-2.4.4-bin-hadoop2.7.tgz\n",
        "!pip install -q findspark\n",
        "\n",
        "import os\n",
        "os.environ[\"JAVA_HOME\"] = \"/usr/lib/jvm/java-8-openjdk-amd64\"\n",
        "os.environ[\"SPARK_HOME\"] = \"/content/spark-2.4.4-bin-hadoop2.7\"\n",
        "\n",
        "import findspark\n",
        "findspark.init(\"spark-2.4.4-bin-hadoop2.7\")# SPARK_HOME\n",
        "\n",
        "from pyspark import SparkContext\n",
        "sc = SparkContext.getOrCreate()"
      ],
      "execution_count": 0,
      "outputs": []
    },
    {
      "cell_type": "code",
      "metadata": {
        "colab_type": "code",
        "id": "4wvdXQxh9m2f",
        "outputId": "47fd87c9-e430-4b15-bbdc-407f3187d25d",
        "colab": {
          "base_uri": "https://localhost:8080/",
          "height": 34
        }
      },
      "source": [
        "from google.colab import drive\n",
        "drive.mount('/content/drive')"
      ],
      "execution_count": 0,
      "outputs": [
        {
          "output_type": "stream",
          "text": [
            "Drive already mounted at /content/drive; to attempt to forcibly remount, call drive.mount(\"/content/drive\", force_remount=True).\n"
          ],
          "name": "stdout"
        }
      ]
    },
    {
      "cell_type": "markdown",
      "metadata": {
        "colab_type": "text",
        "id": "usmMrr5Uhipf"
      },
      "source": [
        "**Create an RDD from a text file**\n",
        "\n",
        "Each line of the text file becomes an element of the RDD."
      ]
    },
    {
      "cell_type": "code",
      "metadata": {
        "colab_type": "code",
        "id": "TVfPs26GjAal",
        "outputId": "4ee236ed-adea-4e37-c687-d53402023bf1",
        "colab": {
          "base_uri": "https://localhost:8080/",
          "height": 34
        }
      },
      "source": [
        "textFile = sc.textFile('/content/drive/My\\ Drive/ratings.csv')\n",
        "header = textFile.first() #extract header\n",
        "data = textFile.filter(lambda row: row != header)\n",
        "data =data.map(lambda x: x.split(','));\n",
        "output = data.map(lambda x:(x[1],float(x[2])))\n",
        "output = output.groupByKey()\n",
        "output = output.map(lambda x:(x[0], len(x[1]),x[1]))\n",
        "output = output.map(lambda b:(b[0], sum(b[2])/b[1]))\n",
        "OutputWithM=output.map(lambda b:('m'+b[0], b[1]))\n",
        "print(OutputWithM.take(5))"
      ],
      "execution_count": 0,
      "outputs": [
        {
          "output_type": "stream",
          "text": [
            "[('m1', 3.9209302325581397), ('m50', 4.237745098039215), ('m70', 3.5090909090909093), ('m110', 4.031645569620253), ('m157', 2.8636363636363638)]\n"
          ],
          "name": "stdout"
        }
      ]
    },
    {
      "cell_type": "markdown",
      "metadata": {
        "id": "yD16D-PHP8bH",
        "colab_type": "text"
      },
      "source": [
        ""
      ]
    },
    {
      "cell_type": "code",
      "metadata": {
        "id": "bealn6Y9E-gA",
        "colab_type": "code",
        "outputId": "991a92cf-0b7c-4f72-8977-f7644715dbe4",
        "colab": {
          "base_uri": "https://localhost:8080/",
          "height": 34
        }
      },
      "source": [
        "output2 = data.map(lambda x:(x[0],float(x[2])))\n",
        "output2 = output2.groupByKey()\n",
        "output2 = output2.map(lambda x:(x[0], len(x[1]),x[1]))\n",
        "output2 = output2.map(lambda b:(b[0], sum(b[2])/b[1]))\n",
        "OutputWithU=output2.map(lambda b:('u'+b[0], b[1]))\n",
        "print(OutputWithU.take(5))"
      ],
      "execution_count": 0,
      "outputs": [
        {
          "output_type": "stream",
          "text": [
            "[('u1', 4.366379310344827), ('u4', 3.5555555555555554), ('u8', 3.574468085106383), ('u9', 3.260869565217391), ('u10', 3.2785714285714285)]\n"
          ],
          "name": "stdout"
        }
      ]
    },
    {
      "cell_type": "code",
      "metadata": {
        "id": "XVvI5Gi7Hcq6",
        "colab_type": "code",
        "outputId": "86f07acf-fc62-4f92-d795-efb36dbd4246",
        "colab": {
          "base_uri": "https://localhost:8080/",
          "height": 54
        }
      },
      "source": [
        "textFile2 = sc.textFile('/content/drive/My\\ Drive/movies.csv')\n",
        "header2 = textFile2.first() #extract header\n",
        "data2 = textFile2.filter(lambda row: row != header2)\n",
        "data2 =data2.map(lambda x: x.split(','));\n",
        "data2 = data2.map(lambda x:(x[0],x[len(x)-1]))\n",
        "data2 =data2.flatMapValues(lambda x: x.split('|'));\n",
        "data2=data2.join(output)\n",
        "data2=data2.map(lambda x:x[1])\n",
        "data2=data2.groupByKey();\n",
        "data2 = data2.map(lambda x:(x[0], len(x[1]),x[1]))\n",
        "data2 = data2.map(lambda b:(b[0], sum(b[2])/b[1]))\n",
        "print(data2.take(5))"
      ],
      "execution_count": 0,
      "outputs": [
        {
          "output_type": "stream",
          "text": [
            "[('Drama', 3.4209053471055375), ('Romance', 3.364870325913318), ('Thriller', 3.1561160994630217), ('Sci-Fi', 3.1026374537884083), ('Fantasy', 3.2188431253303893)]\n"
          ],
          "name": "stdout"
        }
      ]
    }
  ]
}